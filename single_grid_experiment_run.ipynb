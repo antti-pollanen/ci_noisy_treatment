{
 "cells": [
  {
   "cell_type": "code",
   "execution_count": null,
   "metadata": {},
   "outputs": [],
   "source": [
    "import json\n",
    "import sys\n",
    "\n",
    "import experiments.experiment_utils as experiment_utils\n",
    "import experiments.education_wage_experiment_params as education_wage_experiment_params\n",
    "import experiments.synthetic_experiment_params as synthetic_experiment_params\n",
    "import experiments.education_wage_runs as education_wage_runs\n",
    "import experiments.synthetic_runs as synthetic_runs\n",
    "import utils\n",
    "\n",
    "print(\"executing\")"
   ]
  },
  {
   "cell_type": "code",
   "execution_count": null,
   "metadata": {},
   "outputs": [],
   "source": [
    "### Inputs ###\n",
    "\n",
    "#experiment_name = \"synthetic\"\n",
    "experiment_name = \"education_wage\"\n",
    "\n",
    "task_id=5345345"
   ]
  },
  {
   "cell_type": "code",
   "execution_count": null,
   "metadata": {},
   "outputs": [],
   "source": [
    "if experiment_name == \"synthetic\":\n",
    "    param_module = synthetic_experiment_params\n",
    "    run_module = synthetic_runs\n",
    "elif experiment_name == \"education_wage\":\n",
    "    param_module = education_wage_experiment_params\n",
    "    run_module = education_wage_runs\n",
    "else:\n",
    "    raise ValueError(f\"Unknown experiment_name: {experiment_name}\")\n",
    "\n",
    "params = experiment_utils.get_run_params_by_index(\n",
    "    param_module.get_constant_params(), param_module.get_param_grid(), task_id\n",
    ")\n",
    "\n",
    "print(\"params:\")\n",
    "print(params)\n",
    "\n",
    "utils.set_random_seeds(params[\"base_seed\"] + task_id)\n",
    "\n",
    "run_func = getattr(run_module, params[\"run_type\"])\n",
    "output = run_func(params)"
   ]
  }
 ],
 "metadata": {
  "kernelspec": {
   "display_name": "mem",
   "language": "python",
   "name": "mem"
  },
  "language_info": {
   "codemirror_mode": {
    "name": "ipython",
    "version": 3
   },
   "file_extension": ".py",
   "mimetype": "text/x-python",
   "name": "python",
   "nbconvert_exporter": "python",
   "pygments_lexer": "ipython3",
   "version": "3.12.4"
  }
 },
 "nbformat": 4,
 "nbformat_minor": 4
}
