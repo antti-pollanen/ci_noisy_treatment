{
 "cells": [
  {
   "cell_type": "code",
   "execution_count": null,
   "metadata": {},
   "outputs": [],
   "source": [
    "import os\n",
    "import sys\n",
    "\n",
    "folder_path = os.path.abspath('..')\n",
    "\n",
    "if folder_path not in sys.path:\n",
    "    sys.path.append(folder_path)\n",
    "\n",
    "print(sys.path)"
   ]
  },
  {
   "cell_type": "code",
   "execution_count": null,
   "metadata": {},
   "outputs": [],
   "source": [
    "import importlib\n",
    "\n",
    "import seaborn\n",
    "seaborn.set_theme(style=\"whitegrid\")\n",
    "\n",
    "import plotting.plot_output as plot_output\n",
    "import plotting.read_output as read_output\n",
    "\n",
    "test_paths_synthetic = [\"../output/synthetic\"]\n",
    "test_paths_education_wage = [\"../output/education_wage\"]"
   ]
  },
  {
   "cell_type": "code",
   "execution_count": null,
   "metadata": {},
   "outputs": [],
   "source": [
    "_, max_task_ids_synthetic = read_output.load_common_output(test_paths_synthetic)\n",
    "data_as_dicts_synthetic = read_output.read_data_as_dicts(\n",
    "  [test_path + \"/out_case\" for test_path in test_paths_synthetic], max_task_ids_synthetic\n",
    ")\n",
    "data_df_synthetic = read_output.get_data_as_df(data_as_dicts_synthetic)\n",
    "data_df_synthetic = plot_output.add_features(data_df_synthetic)\n",
    "best_indices_synthetic = plot_output.get_best_run_indices_per_run_type(data_df_synthetic, num_runs_to_take_per_type=1)\n",
    "data_df_synthetic = data_df_synthetic.iloc[best_indices_synthetic]"
   ]
  },
  {
   "cell_type": "code",
   "execution_count": null,
   "metadata": {},
   "outputs": [],
   "source": [
    "_ = plot_output.plot_y_cond_mean_errors_synthetic(data_df_synthetic)\n",
    "_ = plot_output.plot_y_noise_errors_synthetic(data_df_synthetic)\n",
    "_ = plot_output.plot_aid_estimates_synthetic(data_df_synthetic)\n",
    "_ = plot_output.plot_x_noise_errors_synthetic(data_df_synthetic)"
   ]
  },
  {
   "cell_type": "code",
   "execution_count": null,
   "metadata": {},
   "outputs": [],
   "source": [
    "_, max_task_ids_education_wage = read_output.load_common_output(test_paths_education_wage)\n",
    "data_as_dicts_education_wage = read_output.read_data_as_dicts(\n",
    "    [test_path + \"/out_case\" for test_path in test_paths_education_wage], max_task_ids_education_wage\n",
    ")\n",
    "data_df_education_wage = read_output.get_data_as_df(data_as_dicts_education_wage)\n",
    "data_df_education_wage = plot_output.add_features(data_df_education_wage)\n"
   ]
  },
  {
   "cell_type": "code",
   "execution_count": null,
   "metadata": {},
   "outputs": [],
   "source": [
    "print(\"First case as dict:\")\n",
    "print(data_as_dicts_education_wage[0])\n",
    "\n",
    "data_df_education_wage[\"params.param_grid.algorithm.name\"]"
   ]
  },
  {
   "cell_type": "code",
   "execution_count": null,
   "metadata": {},
   "outputs": [],
   "source": [
    "importlib.reload(plot_output)\n",
    "\n",
    "_ = plot_output.plot_y_cond_mean_errors_education_wage(data_df_education_wage)\n",
    "_ = plot_output.plot_y_noise_errors_education_wage(data_df_education_wage)\n",
    "_ = plot_output.plot_aid_estimates_education_wage(data_df_education_wage)\n",
    "_ = plot_output.plot_x_noise_errors_education_wage(data_df_education_wage)"
   ]
  }
 ],
 "metadata": {
  "kernelspec": {
   "display_name": "mem",
   "language": "python",
   "name": "mem"
  },
  "language_info": {
   "codemirror_mode": {
    "name": "ipython",
    "version": 3
   },
   "file_extension": ".py",
   "mimetype": "text/x-python",
   "name": "python",
   "nbconvert_exporter": "python",
   "pygments_lexer": "ipython3",
   "version": "3.12.4"
  }
 },
 "nbformat": 4,
 "nbformat_minor": 4
}
